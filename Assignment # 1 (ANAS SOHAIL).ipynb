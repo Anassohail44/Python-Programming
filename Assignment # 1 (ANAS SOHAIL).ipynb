{
 "cells": [
  {
   "cell_type": "code",
   "execution_count": 33,
   "metadata": {},
   "outputs": [
    {
     "name": "stdout",
     "output_type": "stream",
     "text": [
      "Twinkle, twinkle, little star,\n",
      "      How I wonder what you are!\n",
      "            Up above the world so high,\n",
      "            Like a diamond in the sky.\n",
      "Twinkle, twinkle, little star,\n",
      "      How I wonder what you are!\n"
     ]
    }
   ],
   "source": [
    "                             # PYTHON ASSIGNMENT NO : 1 (ANAS SOHAIL)\n",
    "# Question 1 :\n",
    "x = \"Twinkle, twinkle, little star,\"\n",
    "y = \"      How I wonder what you are!\"    \n",
    "z = \"            Up above the world so high,\"\n",
    "a = \"            Like a diamond in the sky.\"\n",
    "print(x)\n",
    "print(y)\n",
    "print(z)\n",
    "print(a)\n",
    "print(x)\n",
    "print(y)"
   ]
  },
  {
   "cell_type": "code",
   "execution_count": 7,
   "metadata": {},
   "outputs": [
    {
     "name": "stdout",
     "output_type": "stream",
     "text": [
      "Python 3.7 version\n"
     ]
    }
   ],
   "source": [
    "# Question 2 :\n",
    "a = \"Python\"\n",
    "b = \" 3.7 version\"\n",
    "c= a + b\n",
    "print(c)\n"
   ]
  },
  {
   "cell_type": "code",
   "execution_count": 10,
   "metadata": {},
   "outputs": [
    {
     "name": "stdout",
     "output_type": "stream",
     "text": [
      "Current date and time: \n",
      "2019-11-03 00:19:13.016233\n"
     ]
    }
   ],
   "source": [
    " # Question 3 :\n",
    "import datetime\n",
    "now = datetime.datetime.now()\n",
    "print(\"Current date and time: \")\n",
    "print(str(now))"
   ]
  },
  {
   "cell_type": "code",
   "execution_count": 21,
   "metadata": {},
   "outputs": [
    {
     "name": "stdout",
     "output_type": "stream",
     "text": [
      "Enter the radius of the circle:4\n",
      "Area of the circle : 50.285714285714285\n"
     ]
    }
   ],
   "source": [
    "# Question 4 :\n",
    "radius = int(input(\"Enter the radius of the circle:\"))\n",
    "area = (22/7)*float(radius**2)\n",
    "print(\"Area of the circle :\" ,area)"
   ]
  },
  {
   "cell_type": "code",
   "execution_count": 27,
   "metadata": {},
   "outputs": [
    {
     "name": "stdout",
     "output_type": "stream",
     "text": [
      "Enter first name:Anas\n",
      "Enter last name:Sohail\n",
      "Sohail Anas\n"
     ]
    }
   ],
   "source": [
    "# Question 5 :\n",
    "first_name = input(\"Enter first name:\")\n",
    "last_name =  input(\"Enter last name:\")\n",
    "full_name = last_name+\" \"+first_name\n",
    "print(full_name)"
   ]
  },
  {
   "cell_type": "code",
   "execution_count": 32,
   "metadata": {},
   "outputs": [
    {
     "name": "stdout",
     "output_type": "stream",
     "text": [
      "Enter first number:4\n",
      "Enter first number:4\n",
      "8\n"
     ]
    }
   ],
   "source": [
    "# Question 6 :\n",
    "a = int(input(\"Enter first number:\"))\n",
    "b = int(input(\"Enter first number:\"))\n",
    "sum = a+b\n",
    "print(sum)"
   ]
  },
  {
   "cell_type": "code",
   "execution_count": 27,
   "metadata": {},
   "outputs": [
    {
     "name": "stdout",
     "output_type": "stream",
     "text": [
      "Enter percentage : %75\n",
      "Grade A\n"
     ]
    }
   ],
   "source": [
    "                             # PYTHON ASSIGNMENT NO : 1{A} (ANAS SOHAIL)\n",
    "per = float(input(\"Enter percentage : %\"))\n",
    "if per >= 80 and per <=100:\n",
    "    print(\"Grade A+\")\n",
    "elif per >= 70 and per < 80:\n",
    "    print (\"Grade A\")\n",
    "elif per >= 60 and per < 70:\n",
    "        print (\"Grade B\")\n",
    "elif per >= 50 and per < 60:\n",
    "        print (\"Grade C\")\n",
    "elif per >= 40 and per < 50:\n",
    "        print (\"Grade D\")\n",
    "elif per >=33 and per < 40:\n",
    "        print (\"Grade E\")\n",
    "elif per >=0 and per < 0:\n",
    "        print (\"FAIL\")\n",
    "else:\n",
    "            print(\"You have given inappropriate %\")\n",
    "                    \n",
    "        "
   ]
  },
  {
   "cell_type": "code",
   "execution_count": null,
   "metadata": {},
   "outputs": [],
   "source": []
  },
  {
   "cell_type": "code",
   "execution_count": null,
   "metadata": {},
   "outputs": [],
   "source": []
  },
  {
   "cell_type": "code",
   "execution_count": null,
   "metadata": {},
   "outputs": [],
   "source": []
  }
 ],
 "metadata": {
  "kernelspec": {
   "display_name": "Python 3",
   "language": "python",
   "name": "python3"
  },
  "language_info": {
   "codemirror_mode": {
    "name": "ipython",
    "version": 3
   },
   "file_extension": ".py",
   "mimetype": "text/x-python",
   "name": "python",
   "nbconvert_exporter": "python",
   "pygments_lexer": "ipython3",
   "version": "3.7.4"
  }
 },
 "nbformat": 4,
 "nbformat_minor": 2
}
